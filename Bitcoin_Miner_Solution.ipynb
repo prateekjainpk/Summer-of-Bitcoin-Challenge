{
  "nbformat": 4,
  "nbformat_minor": 0,
  "metadata": {
    "colab": {
      "name": "Bitcoin_Miner_Solution.ipynb",
      "provenance": [],
      "collapsed_sections": []
    },
    "kernelspec": {
      "name": "python3",
      "display_name": "Python 3"
    },
    "language_info": {
      "name": "python"
    }
  },
  "cells": [
    {
      "cell_type": "code",
      "metadata": {
        "colab": {
          "base_uri": "https://localhost:8080/"
        },
        "id": "yc7RJo36C739",
        "outputId": "d22fe5ad-f805-4fb4-d4d7-534c475be335"
      },
      "source": [
        "import csv\n",
        "from google.colab import drive\n",
        "drive.mount('/content/gdrive')"
      ],
      "execution_count": null,
      "outputs": [
        {
          "output_type": "stream",
          "text": [
            "Drive already mounted at /content/gdrive; to attempt to forcibly remount, call drive.mount(\"/content/gdrive\", force_remount=True).\n"
          ],
          "name": "stdout"
        }
      ]
    },
    {
      "cell_type": "code",
      "metadata": {
        "id": "EHT_BL2gDJuu"
      },
      "source": [
        "# Fields list to store the names of the column field\n",
        "fields = []\n",
        "# Rows list to store the values\n",
        "rows = []\n",
        "\n",
        "# Path to the CSV file\n",
        "mempool_path = 'gdrive/My Drive/Colab Notebooks/Summer of Bitcoin/mempool.csv'\n",
        "\n",
        "# Reading the CSV file\n",
        "with open(mempool_path, 'r') as csv_file:\n",
        "  csv_reader = csv.reader(csv_file)\n",
        "  fields = next(csv_reader)\n",
        "\n",
        "  for row in csv_reader:\n",
        "    rows.append(row)"
      ],
      "execution_count": null,
      "outputs": []
    },
    {
      "cell_type": "code",
      "metadata": {
        "id": "rhETYHI1WMfZ"
      },
      "source": [
        "# Appending two new columns in the csv file\n",
        "# Column val to store the ratio of weight/price, So that miner can input the child_idx in the form which has maxiumum fees for minumum weight\n",
        "# A visited column to store if the child_idx id has been visited or not\n",
        "for i in range(len(rows)):\n",
        "  fee = int(rows[i][1])\n",
        "  wgt = int(rows[i][2])\n",
        "  val = fee / wgt\n",
        "  rows[i].append(val)\n",
        "  rows[i].append(\"False\")"
      ],
      "execution_count": null,
      "outputs": []
    },
    {
      "cell_type": "code",
      "metadata": {
        "id": "lcD4s38XZck5"
      },
      "source": [
        "# Sorting the data corresponding to Column val and reverse it, So that max fees transaction with min weigth appears on top.\n",
        "new_data = sorted(rows, key = lambda x:x[4])\n",
        "data = new_data[::-1]\n",
        "for line in data:\n",
        "  print(line)"
      ],
      "execution_count": null,
      "outputs": []
    },
    {
      "cell_type": "code",
      "metadata": {
        "id": "4XzWCleUf06J"
      },
      "source": [
        "# Total_wgt in the tx_ids list should not be greater than the max_wgt\n",
        "global total_wgt\n",
        "total_wgt = 0\n",
        "global max_wgt\n",
        "max_wgt = 4000000\n",
        "# tx_ids is a list that will store all the child_id that are the transaction ids used by minor to maximise the fees\n",
        "global tx_ids\n",
        "tx_ids = []"
      ],
      "execution_count": null,
      "outputs": []
    },
    {
      "cell_type": "code",
      "metadata": {
        "id": "1mv-pOYsm7td"
      },
      "source": [
        "# Function to calculate the Index value\n",
        "def index_p_id(p_id):\n",
        "  p_id = str(p_id)\n",
        "  index_val = 0\n",
        "  for i in range(len(data)):\n",
        "    if (p_id == data[i][0]):\n",
        "      index_val = i\n",
        "      return index_val "
      ],
      "execution_count": null,
      "outputs": []
    },
    {
      "cell_type": "code",
      "metadata": {
        "id": "AHwDvHOtYkCy"
      },
      "source": [
        "# Using Recursion to store all the dependent parent transactions ids\n",
        "def dependent_parent (p_id, que_dep_id):\n",
        "\n",
        "  # Converting the p_id as child_id, so that transaction can occur before it\n",
        "  # Calculating child_id_index for the following p_id\n",
        "  p_id_index = index_p_id(p_id)\n",
        "  if (p_id_index == 0):\n",
        "    # Transaction cannot occur\n",
        "    return que_dep_id\n",
        "  else:\n",
        "    new_child_id = data[p_id_index][0]\n",
        "    parent_new_child_id = data[p_id_index][3]\n",
        "    que_dep_id.append(new_child_id)\n",
        "\n",
        "    # It is no further dependent on any parent transaction id\n",
        "    if (parent_new_child_id == \"\"):\n",
        "      return que_dep_id\n",
        "    else:\n",
        "      dependent_parent(new_child_id[value][3], que_dep_id)"
      ],
      "execution_count": null,
      "outputs": []
    },
    {
      "cell_type": "code",
      "metadata": {
        "id": "fN5Pq0x18xz5"
      },
      "source": [
        "# Code to check if the Transaction is in list or not\n",
        "def check_in_lst(id):\n",
        "  for i in range(len(data)):\n",
        "    if (id == data[i][0]):\n",
        "      return True\n",
        "  else:\n",
        "    return False"
      ],
      "execution_count": null,
      "outputs": []
    },
    {
      "cell_type": "code",
      "metadata": {
        "id": "77Sw47GdcpAn"
      },
      "source": [
        "# Running a loop to iterate all the transation ids, If all the conditions are applied.\n",
        "# We are following a 0 - based indexing approach\n",
        "\n",
        "# Initialising i = 0 to i = len(data) ---> Total no of transaction ids\n",
        "i = 0\n",
        "while (i < len(data)):\n",
        "  child_id = data[i][0]\n",
        "  fee_id = data[i][1]\n",
        "  wgt_id = int(data[i][2])\n",
        "  parent_id = data[i][3]\n",
        "  visited_id = data[i][5]\n",
        "\n",
        "  # Case 1 --> The child_id is not dependent on Parent and we have not visited the transaction\n",
        "  if (parent_id == \"\" and visited_id == \"False\"):\n",
        "    # Transaction moves into tx_ids\n",
        "    tx_ids.append(child_id)\n",
        "    visited_id = \"True\"\n",
        "    total_wgt += int(wgt_id)\n",
        "  # Case 2 --> The child_is dependent on parent. So for child_id to move into tx_ids first parent_id should move to tx_ids\n",
        "  elif (parent_id != \"\" and visited_id == \"False\"):\n",
        "    parent_ids = list(map(str,parent_id.split(\";\")))\n",
        "    for p_id in parent_ids:\n",
        "      # p_id transaction already occured and is in tx_ids\n",
        "      if (p_id in tx_ids):\n",
        "        pass\n",
        "      else:\n",
        "        # p_id transaction has not occured till yet\n",
        "        # queue to store the dependent parent transaction ids\n",
        "        que_dep_pid = []\n",
        "        # list contains all the dependent parent transaction ids\n",
        "        lst = dependent_parent(p_id, que_dep_pid)\n",
        "        # Append the lst in tx_id in the reverse order\n",
        "        for i in range(len(lst)-1,-1,-1):\n",
        "          t_id = lst[i]\n",
        "          # This transaction is now visited, So visited_id = \"True\"\n",
        "          # Checking if this transaction is in list or not\n",
        "          in_lst = check_in_lst(t_id)\n",
        "          if (in_lst == \"True\"):\n",
        "            ind = data[0].index(t_id)\n",
        "            data[ind][5] = \"True\"\n",
        "            # Adding this transaction in tx_ids\n",
        "            tx_ids.append(t_id)\n",
        "            total_wgt += int(data[ind][2])\n",
        "          else:\n",
        "            pass\n",
        "    # Case 3 --> The child id is dependent on parent. But the transaction has already occured before.\n",
        "    else: \n",
        "      pass\n",
        "  \n",
        "  # Keeping in mind the weight factor\n",
        "  if (total_wgt > max_wgt):\n",
        "    break\n",
        "  else:\n",
        "    pass \n",
        "  i += 1      "
      ],
      "execution_count": null,
      "outputs": []
    },
    {
      "cell_type": "markdown",
      "metadata": {
        "id": "g5QrPGNxAqLE"
      },
      "source": [
        "#### The tx_ids list store all the transactions done by the Miner\n",
        "#### The Block.txt file store the list of all the transactions"
      ]
    },
    {
      "cell_type": "code",
      "metadata": {
        "id": "sC7F88-O_tNq"
      },
      "source": [
        "Block_file_path = 'gdrive/My Drive/Colab Notebooks/Summer of Bitcoin/Block.txt'"
      ],
      "execution_count": null,
      "outputs": []
    },
    {
      "cell_type": "code",
      "metadata": {
        "id": "yQu5Jd679zgE"
      },
      "source": [
        "textfile = open(Block_file_path, \"w\")\n",
        "for element in tx_ids:\n",
        "    textfile.write(element + \"\\n\")\n",
        "textfile.close()"
      ],
      "execution_count": null,
      "outputs": []
    }
  ]
}